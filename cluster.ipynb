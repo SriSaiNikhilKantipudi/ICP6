{
  "nbformat": 4,
  "nbformat_minor": 0,
  "metadata": {
    "colab": {
      "name": "cluster.ipynb",
      "provenance": [],
      "collapsed_sections": []
    },
    "kernelspec": {
      "name": "python3",
      "display_name": "Python 3"
    }
  },
  "cells": [
    {
      "cell_type": "code",
      "metadata": {
        "id": "V4Wm64TpEf0_",
        "colab_type": "code",
        "colab": {
          "base_uri": "https://localhost:8080/",
          "height": 301
        },
        "outputId": "82b65545-8a3a-4bf4-9ab2-7212308ad719"
      },
      "source": [
        "import pandas as pd\n",
        "import seaborn as sns\n",
        "import warnings\n",
        "import matplotlib.pyplot as plt\n",
        "from sklearn.cluster import KMeans\n",
        "from sklearn.decomposition import PCA\n",
        "\n",
        "sns.set(style=\"white\", color_codes=True)\n",
        "\n",
        "warnings.filterwarnings(\"ignore\")\n",
        "\n",
        "dataset = pd.read_csv('drive/My Drive/Colab Notebooks/CC.csv')\n",
        "dataset.isna().sum()\n",
        "dataset.fillna(dataset.mean(),inplace=True)\n",
        "dataset.isna().sum()\n",
        "\n",
        "X = dataset.iloc[:,1:]\n",
        "\n",
        "from sklearn.cluster import KMeans\n",
        "wcss=[]\n",
        "for i in range(1,11):\n",
        "    kmeans= KMeans(n_clusters=i,init='k-means++',max_iter=300,n_init=10,random_state=0)\n",
        "    kmeans.fit(X)\n",
        "    wcss.append(kmeans.inertia_)\n",
        "plt.plot(range(1,11),wcss)\n",
        "plt.title('the elbow method')\n",
        "plt.xlabel('Number of Clusters')\n",
        "plt.ylabel('Wcss')\n",
        "plt.grid(b=True, which='major', color='RED', linestyle='-')\n",
        "plt.show()\n",
        "\n"
      ],
      "execution_count": 11,
      "outputs": [
        {
          "output_type": "display_data",
          "data": {
            "image/png": "[encoded data removed]",
            "text/plain": [
              "<Figure size 432x288 with 1 Axes>"
            ]
          },
          "metadata": {
            "tags": []
          }
        }
      ]
    },
    {
      "cell_type": "code",
      "metadata": {
        "id": "1uodzUiyFwIx",
        "colab_type": "code",
        "colab": {
          "base_uri": "https://localhost:8080/",
          "height": 34
        },
        "outputId": "c11b7dad-cef9-4f23-cf1f-534fa92e04e0"
      },
      "source": [
        "##building the model\n",
        "from sklearn.cluster import KMeans\n",
        "nclusters = 3 # this is the k in kmeans\n",
        "km = KMeans(n_clusters=nclusters)\n",
        "km.fit(X)\n",
        "\n",
        "\n",
        "# predict the cluster for each data point\n",
        "y_cluster_kmeans = km.predict(X)\n",
        "from sklearn import metrics\n",
        "score = metrics.silhouette_score(X, y_cluster_kmeans)\n",
        "print(score)"
      ],
      "execution_count": 5,
      "outputs": [
        {
          "output_type": "stream",
          "text": [
            "0.4654251280958053\n"
          ],
          "name": "stdout"
        }
      ]
    },
    {
      "cell_type": "code",
      "metadata": {
        "id": "fbONrjZYFReo",
        "colab_type": "code",
        "colab": {
          "base_uri": "https://localhost:8080/",
          "height": 125
        },
        "outputId": "99385532-b063-4d97-df40-106ea7ffe007"
      },
      "source": [
        "from google.colab import drive\n",
        "drive.mount('/content/drive/')"
      ],
      "execution_count": 2,
      "outputs": [
        {
          "output_type": "stream",
          "text": [
            "Go to this URL in a browser: https://accounts.google.com/o/oauth2/auth?client_id=947318989803-6bn6qk8qdgf4n4g3pfee6491hc0brc4i.apps.googleusercontent.com&redirect_uri=urn%3aietf%3awg%3aoauth%3a2.0%3aoob&response_type=code&scope=email%20https%3a%2f%2fwww.googleapis.com%2fauth%2fdocs.test%20https%3a%2f%2fwww.googleapis.com%2fauth%2fdrive%20https%3a%2f%2fwww.googleapis.com%2fauth%2fdrive.photos.readonly%20https%3a%2f%2fwww.googleapis.com%2fauth%2fpeopleapi.readonly\n",
            "\n",
            "Enter your authorization code:\n",
            "··········\n",
            "Mounted at /content/drive/\n"
          ],
          "name": "stdout"
        }
      ]
    },
    {
      "cell_type": "code",
      "metadata": {
        "id": "YMYy1nqMJQB-",
        "colab_type": "code",
        "colab": {}
      },
      "source": [
        "scaler =preprocessing.StandardScaler() \n",
        "scaler.fit(X)\n",
        "X_scaled_array=scaler.transform(X)\n",
        "X_scaled=pd.DataFrame(X_scaled_array, columns =X.columns) \n"
      ],
      "execution_count": 0,
      "outputs": []
    },
    {
      "cell_type": "code",
      "metadata": {
        "id": "CO9zAntUKYZy",
        "colab_type": "code",
        "colab": {
          "base_uri": "https://localhost:8080/",
          "height": 34
        },
        "outputId": "177757f1-9296-4aea-df2f-6519204715f9"
      },
      "source": [
        "nclusters=3# this is the k in kmeans\n",
        "seed =0\n",
        "km =KMeans(n_clusters=nclusters, random_state=seed)\n",
        "km.fit(X_scaled) # predict the cluster for each data point\n",
        "y_cluster_kmeans=km.predict(X_scaled)\n",
        "score = metrics.silhouette_score(X_scaled, y_cluster_kmeans)\n",
        "print(score)"
      ],
      "execution_count": 13,
      "outputs": [
        {
          "output_type": "stream",
          "text": [
            "0.25024795274747624\n"
          ],
          "name": "stdout"
        }
      ]
    },
    {
      "cell_type": "code",
      "metadata": {
        "id": "S0WUXea_KdKD",
        "colab_type": "code",
        "colab": {}
      },
      "source": [
        "pca= PCA(2)\n",
        "X_pca= pca.fit_transform(X_scaled)"
      ],
      "execution_count": 0,
      "outputs": []
    },
    {
      "cell_type": "code",
      "metadata": {
        "id": "M4NCA1kLKiiC",
        "colab_type": "code",
        "colab": {
          "base_uri": "https://localhost:8080/",
          "height": 34
        },
        "outputId": "29476762-e0ab-40b1-8bd4-fea464b20038"
      },
      "source": [
        "nclusters=3# this is the k in kmeans\n",
        "seed =0\n",
        "km =KMeans(n_clusters=nclusters, random_state=seed)\n",
        "km.fit(X_pca) # predict the cluster for each data point\n",
        "y_cluster_kmeans=km.predict(X_pca)\n",
        "score = metrics.silhouette_score(X_pca, y_cluster_kmeans)\n",
        "print(score)\n"
      ],
      "execution_count": 15,
      "outputs": [
        {
          "output_type": "stream",
          "text": [
            "0.452323853707387\n"
          ],
          "name": "stdout"
        }
      ]
    }
  ]
}